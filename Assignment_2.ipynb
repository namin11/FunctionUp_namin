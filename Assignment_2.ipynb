{
  "nbformat": 4,
  "nbformat_minor": 0,
  "metadata": {
    "colab": {
      "provenance": [],
      "authorship_tag": "ABX9TyPM0BFlDjzNPMr4gFTOwNw/",
      "include_colab_link": true
    },
    "kernelspec": {
      "name": "python3",
      "display_name": "Python 3"
    },
    "language_info": {
      "name": "python"
    }
  },
  "cells": [
    {
      "cell_type": "markdown",
      "metadata": {
        "id": "view-in-github",
        "colab_type": "text"
      },
      "source": [
        "<a href=\"https://colab.research.google.com/github/namin11/FunctionUp_namin/blob/main/Assignment_2.ipynb\" target=\"_parent\"><img src=\"https://colab.research.google.com/assets/colab-badge.svg\" alt=\"Open In Colab\"/></a>"
      ]
    },
    {
      "cell_type": "code",
      "execution_count": null,
      "metadata": {
        "colab": {
          "base_uri": "https://localhost:8080/"
        },
        "id": "Ir-NLeCnCJs7",
        "outputId": "3bd48a2a-9429-4e0a-af2f-234e5aafd267"
      },
      "outputs": [
        {
          "output_type": "stream",
          "name": "stdout",
          "text": [
            "{1: 'india', 2: 'america', 3: 'england', 4: 'china', 5: 'australia', 6: 'nepal'}\n"
          ]
        }
      ],
      "source": [
        "#Create a dictionary capital_city named india, america, england, china, australia, nepal.\n",
        "\n",
        "capital_city={1:'india',2:'america',3:'england',4: 'china',5: 'australia', 6:'nepal'}\n",
        "print(capital_city)"
      ]
    },
    {
      "cell_type": "code",
      "source": [
        "# Create a tuple and access element at index 0 and index 1.\n",
        "tuple_example=(1,2,3,4,5,6,7,8,9,10)\n",
        "print(\"The original tuple : \" + str(tuple_example))\n",
        "result=(tuple_example[0],tuple_example[1])\n",
        "print(\" index 0 and index 1 elements of tuple are : \" + str(result))"
      ],
      "metadata": {
        "colab": {
          "base_uri": "https://localhost:8080/"
        },
        "id": "jgHDme_8GPHG",
        "outputId": "d7394159-0b13-49c2-85e1-c6edd11a1f02"
      },
      "execution_count": null,
      "outputs": [
        {
          "output_type": "stream",
          "name": "stdout",
          "text": [
            "The original tuple : (1, 2, 3, 4, 5, 6, 7, 8, 9, 10)\n",
            " index 0 and index 1 elements of tuple are : (1, 2)\n"
          ]
        }
      ]
    },
    {
      "cell_type": "code",
      "source": [
        "# Create a list and access element at index 1 and index 2.\n",
        "list_1=[1,2,3,4,5]\n",
        "print(list_1[1])\n",
        "print(list_1[2])"
      ],
      "metadata": {
        "colab": {
          "base_uri": "https://localhost:8080/"
        },
        "id": "o7BAoziEHnZu",
        "outputId": "78d766ae-8aa8-47a4-e245-2e9f2de04fb5"
      },
      "execution_count": null,
      "outputs": [
        {
          "output_type": "stream",
          "name": "stdout",
          "text": [
            "2\n",
            "3\n"
          ]
        }
      ]
    },
    {
      "cell_type": "code",
      "source": [
        "#If A=9, B=3 apply all the arithmetic operations given below in python. [ addition, subtraction, multiplication, division, floor division, modulus, a to the power b ]\n",
        "A=9\n",
        "B=3\n",
        "addition=A+B\n",
        "print(\"The addition of\",A,\"and\",B,\"is:\",addition)\n",
        "subtraction=A-B\n",
        "print(\"The subtraction of\",A,\"and\",B,\"is:\",subtraction)\n",
        "multiplication=A*B\n",
        "print(\"The multiplication of\",A,\"and\",B,\"is:\",multiplication)\n",
        "division=A/B\n",
        "print(\"The division of\",A,\"and\",B,\"is:\",division)\n",
        "modulus=A%B\n",
        "print(\"The modulus of\",A,\"and\",B,\"is:\",modulus)\n",
        "exp=A**B\n",
        "print(\"The\",A ,\"to the power \",B ,\"is:\",exp)\n",
        "floordiv=A//B\n",
        "print(\"The floor division between\",A,\"and\",B,\"is:\",floordiv)"
      ],
      "metadata": {
        "colab": {
          "base_uri": "https://localhost:8080/"
        },
        "id": "0xcQQX-MKt9J",
        "outputId": "e66842bf-71c1-4f63-aa0c-3c79bd9043a6"
      },
      "execution_count": null,
      "outputs": [
        {
          "output_type": "stream",
          "name": "stdout",
          "text": [
            "The addition of 9 and 3 is: 12\n",
            "The subtraction of 9 and 3 is: 6\n",
            "The multiplication of 9 and 3 is: 27\n",
            "The division of 9 and 3 is: 3.0\n",
            "The modulus of 9 and 3 is: 0\n",
            "The 9 to the power  3 is: 729\n",
            "The floor division between 9 and 3 is: 3\n"
          ]
        }
      ]
    },
    {
      "cell_type": "code",
      "source": [
        "#If A=5, B=2 apply all the conditional operations given below in python. [ =, >, <, >=, <= ]\n",
        "A=5\n",
        "B=2\n",
        "print(A,\"=\",B,A==B)\n",
        "print(A,\">\",B,A>B)\n",
        "print(A,\"<\",B,A<B)\n",
        "print(A,\">=\",B,A>=B)\n",
        "print(A,\"<=\",B,A<=B)\n",
        "\n"
      ],
      "metadata": {
        "colab": {
          "base_uri": "https://localhost:8080/"
        },
        "id": "FBlwHatqK2Jn",
        "outputId": "e3a9b6ce-4c33-477f-80a6-20bd6b910391"
      },
      "execution_count": null,
      "outputs": [
        {
          "output_type": "stream",
          "name": "stdout",
          "text": [
            "5 = 2 False\n",
            "5 > 2 True\n",
            "5 < 2 False\n",
            "5 >= 2 True\n",
            "5 <= 2 False\n"
          ]
        }
      ]
    },
    {
      "cell_type": "code",
      "source": [
        "#Create a list and access element at index -1 and index -3.\n",
        "list_1=[1,2,3,4,5]\n",
        "print(list_1[-1])\n",
        "print(list_1[-3])"
      ],
      "metadata": {
        "colab": {
          "base_uri": "https://localhost:8080/"
        },
        "id": "7vJKKCrzLN_U",
        "outputId": "8eb3da69-8e2c-4bc3-b4e3-6295262e66b0"
      },
      "execution_count": null,
      "outputs": [
        {
          "output_type": "stream",
          "name": "stdout",
          "text": [
            "5\n",
            "3\n"
          ]
        }
      ]
    },
    {
      "cell_type": "code",
      "source": [
        "#Write a program to check whether the item is present in the list or not.\n",
        "#List items = [ “Colgate”, “Soap”, “Tubelight”, “Fan”, “Egg” ]\n",
        "#Check for tubelight\n",
        "#Check for Paranta\n",
        "List_items = ['Colgate','Soap', 'Tubelight', 'Fan', 'Egg' ]\n",
        "for i in List_items:\n",
        "    if(i == \"Tubelight\"):\n",
        "        print(\"Element Exists\")\n",
        "#for i in List_items:\n",
        "    if(i == \"Paranta\"):\n",
        "      print(\"Element not Exists\")\n",
        "    #else:\n",
        "      #print(\" \")\n",
        "\n",
        "\n",
        "\n"
      ],
      "metadata": {
        "colab": {
          "base_uri": "https://localhost:8080/"
        },
        "id": "yLvOADZCLPXV",
        "outputId": "a5e021c3-ab93-4095-f391-4260ec29db2b"
      },
      "execution_count": null,
      "outputs": [
        {
          "output_type": "stream",
          "name": "stdout",
          "text": [
            "Element Exists\n"
          ]
        }
      ]
    },
    {
      "cell_type": "code",
      "source": [
        " #Assign a list and find the length of the list.\n",
        "list_1 = [1, 2, 3]\n",
        "result = len(list_1)\n",
        "print(\"The length of list is: \", result)"
      ],
      "metadata": {
        "colab": {
          "base_uri": "https://localhost:8080/"
        },
        "id": "ystmcuEgLaMS",
        "outputId": "bc20c233-8f70-4bca-ce2b-fcd26d552829"
      },
      "execution_count": null,
      "outputs": [
        {
          "output_type": "stream",
          "name": "stdout",
          "text": [
            "The length of list is:  3\n"
          ]
        }
      ]
    },
    {
      "cell_type": "code",
      "source": [
        "# Write a program to find the minimum number\n",
        "list_1 = []\n",
        "element= int (input (\" How many elements you want to enter? \"))\n",
        "for i in range(element) :\n",
        "  n =int (input (\"Enter a number:\"))\n",
        "  list_1.append(n)\n",
        "print (list_1)\n",
        "min = list_1[0]\n",
        "\n",
        "for i in range (len (list_1)):\n",
        "  if list_1[i] < min:\n",
        "    min = list_1[i]\n",
        "print (\"The smallest element is : \", min)\n"
      ],
      "metadata": {
        "colab": {
          "base_uri": "https://localhost:8080/"
        },
        "id": "_4lIPLR6LbaZ",
        "outputId": "aee9bcd9-b06e-4f5f-be99-9289ede06c5c"
      },
      "execution_count": 40,
      "outputs": [
        {
          "output_type": "stream",
          "name": "stdout",
          "text": [
            " How many elements you want to enter? 3\n",
            "Enter a number:23\n",
            "Enter a number:67\n",
            "Enter a number:9\n",
            "[23, 67, 9]\n",
            "The smallest element is :  9\n"
          ]
        }
      ]
    },
    {
      "cell_type": "code",
      "source": [
        "#Create a list and do check exist item in the list applying for loop Number_list = [1, 6, 3, 5, 3, 4 ] Check Number_list[5]\n",
        "Number_list = [1, 6, 3, 5, 3, 4 ]\n",
        "for i in Number_list:\n",
        "  if(i==5):\n",
        "    print(\"Element Exists\")\n",
        "\n"
      ],
      "metadata": {
        "colab": {
          "base_uri": "https://localhost:8080/"
        },
        "id": "JQvT2F9zLf6R",
        "outputId": "cc141f34-ef5b-4e1a-acaf-8c8bf0e7935a"
      },
      "execution_count": 38,
      "outputs": [
        {
          "output_type": "stream",
          "name": "stdout",
          "text": [
            "Element Exists\n"
          ]
        }
      ]
    }
  ]
}