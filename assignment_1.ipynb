{
  "nbformat": 4,
  "nbformat_minor": 0,
  "metadata": {
    "colab": {
      "provenance": [],
      "authorship_tag": "ABX9TyOlrWUgF4t8yUDdX7asCUJk",
      "include_colab_link": true
    },
    "kernelspec": {
      "name": "python3",
      "display_name": "Python 3"
    },
    "language_info": {
      "name": "python"
    }
  },
  "cells": [
    {
      "cell_type": "markdown",
      "metadata": {
        "id": "view-in-github",
        "colab_type": "text"
      },
      "source": [
        "<a href=\"https://colab.research.google.com/github/namin11/FunctionUp_namin/blob/main/assignment_1.ipynb\" target=\"_parent\"><img src=\"https://colab.research.google.com/assets/colab-badge.svg\" alt=\"Open In Colab\"/></a>"
      ]
    },
    {
      "cell_type": "code",
      "execution_count": null,
      "metadata": {
        "colab": {
          "base_uri": "https://localhost:8080/"
        },
        "id": "AP8pvqkRaSw-",
        "outputId": "8d50da0f-0a2a-411d-cac8-faf7200a410b"
      },
      "outputs": [
        {
          "output_type": "stream",
          "name": "stdout",
          "text": [
            "a = 55\n",
            "b = 22\n"
          ]
        }
      ],
      "source": [
        "# 1.Write a Python program to swap the values of two variables without using a temporary variable.\n",
        "a = 22\n",
        "b = 55\n",
        "a = a + b\n",
        "b = a - b\n",
        "a = a - b\n",
        "print(\"a =\",a)\n",
        "print(\"b =\",b)"
      ]
    },
    {
      "cell_type": "code",
      "source": [
        "# 2.Write a Python program that calculates the area of a rectangle.\n",
        "#The program should ask the user for the length and width of the rectangle.\n",
        "print(\"Enter Length of Rectangle: \")\n",
        "a=float(input())\n",
        "print(\"Enter Breadth of Rectangle: \")\n",
        "b=float(input())\n",
        "c=a*b\n",
        "print(\"area =\",c)"
      ],
      "metadata": {
        "colab": {
          "base_uri": "https://localhost:8080/"
        },
        "id": "Ro86yR93at4y",
        "outputId": "70c49fc5-0fb9-4578-f4bf-f158c71a8b01"
      },
      "execution_count": null,
      "outputs": [
        {
          "output_type": "stream",
          "name": "stdout",
          "text": [
            "Enter Length of Rectangle: \n",
            "4\n",
            "Enter Breadth of Rectangle: \n",
            "5.5\n",
            "area = 22.0\n"
          ]
        }
      ]
    },
    {
      "cell_type": "code",
      "source": [
        "# 3.Write a Python program to check if a number is odd or even.\n",
        "#The program should ask the user for a number and print whether it is odd or even.\n",
        "number = int(input(\"enter number\"))\n",
        "if number%2 == 0:\n",
        "    print(number,\"is even.\")\n",
        "else:\n",
        "    print(number, \"is odd.\")"
      ],
      "metadata": {
        "colab": {
          "base_uri": "https://localhost:8080/"
        },
        "id": "jrIJYU0abBTn",
        "outputId": "cc15322b-cde0-46d0-b228-b98535b17f4f"
      },
      "execution_count": null,
      "outputs": [
        {
          "output_type": "stream",
          "name": "stdout",
          "text": [
            "enter number8\n",
            "8 is even.\n"
          ]
        }
      ]
    },
    {
      "cell_type": "code",
      "source": [
        "# 4.Write a Python program to convert temperature from Fahrenheit to Celsius.\n",
        "#The program should ask the user for the temperature in Fahrenheit and print the equivalent temperature in Celsius.\n",
        "a=int(input(\"enter temperature in Fahrenheit : \"))\n",
        "b=(a-32)*5/9\n",
        "print(\"temperature in Celsius : \",b)"
      ],
      "metadata": {
        "colab": {
          "base_uri": "https://localhost:8080/"
        },
        "id": "L1HoIR1wbmVi",
        "outputId": "3a214064-ea85-4d15-98b5-e2ecde6164a0"
      },
      "execution_count": null,
      "outputs": [
        {
          "output_type": "stream",
          "name": "stdout",
          "text": [
            "enter temperature in Fahrenheit : 70\n",
            "temperature in Celsius :  21.11111111111111\n"
          ]
        }
      ]
    },
    {
      "cell_type": "code",
      "source": [
        "# 5.Write a Python program to check if a year is a leap year.\n",
        "#The program should ask the user for a year and print whether it is a leap year or not.\n",
        "yr = int(input(\"enter the year :\"))\n",
        "    # Use if, else if and else to check yr is leap or not\n",
        "if yr%100==0:\n",
        "    if yr%400==0:\n",
        "        print(yr,\"is leap year\")\n",
        "    else:\n",
        "        print(yr,\"isnot leap year\")\n",
        "else:\n",
        "    if yr%4==0:\n",
        "        print(yr,\"is leap year\")\n",
        "    else:\n",
        "        print(yr,\"isnot leap year\")"
      ],
      "metadata": {
        "colab": {
          "base_uri": "https://localhost:8080/"
        },
        "id": "-0bRv5Rub0Lk",
        "outputId": "a8349725-9993-4cce-9e09-f1150a1be65d"
      },
      "execution_count": null,
      "outputs": [
        {
          "output_type": "stream",
          "name": "stdout",
          "text": [
            "enter the year :2024\n",
            "2024 is leap year\n"
          ]
        }
      ]
    },
    {
      "cell_type": "code",
      "source": [
        "# 6.Write a Python program to count the number of occurrences of a specific character in a string.\n",
        "# The program should ask the user for a string and a character, then print the count.\n",
        "a= input(\"enter string = \")\n",
        "b= input(\"enter character = \")\n",
        "count=0\n",
        "for c in a:\n",
        "    if b==c:\n",
        "        count=count+1\n",
        "print(\"number of occurrences of a specific character :\",count)"
      ],
      "metadata": {
        "colab": {
          "base_uri": "https://localhost:8080/"
        },
        "id": "lkPEiKGycLi1",
        "outputId": "7315589b-818b-47dc-8261-eb11586b4dec"
      },
      "execution_count": null,
      "outputs": [
        {
          "output_type": "stream",
          "name": "stdout",
          "text": [
            "enter string = namina mansuri\n",
            "enter character = n\n",
            "number of occurrences of a specific character : 3\n"
          ]
        }
      ]
    },
    {
      "cell_type": "code",
      "source": [
        "# 7.Write a Python program to reverse a string.\n",
        "# The program should ask the user for a string and print its reverse.\n",
        "a= input(\"enter string = \")\n",
        "print(a[::-1])"
      ],
      "metadata": {
        "colab": {
          "base_uri": "https://localhost:8080/"
        },
        "id": "pXAyr3Pbcezs",
        "outputId": "7f44e02e-b3de-4807-ca45-666d95edab13"
      },
      "execution_count": null,
      "outputs": [
        {
          "output_type": "stream",
          "name": "stdout",
          "text": [
            "enter string = namina mansuri\n",
            "irusnam animan\n"
          ]
        }
      ]
    },
    {
      "cell_type": "code",
      "source": [
        "# 8.Write a Python program to check if a string is a palindrome.\n",
        "# The program should ask the user for a string and print whether it is a palindrome or not.\n",
        "s= input(\"enter string = \")\n",
        "if  s == s[::-1]:\n",
        "    print(s,\"is palindrome\")\n",
        "else:\n",
        "    print(s,\"isnot palindrome\")\n"
      ],
      "metadata": {
        "colab": {
          "base_uri": "https://localhost:8080/"
        },
        "id": "TDH2450tcqHH",
        "outputId": "9094d054-7f10-48a5-cf13-975933fa7b12"
      },
      "execution_count": null,
      "outputs": [
        {
          "output_type": "stream",
          "name": "stdout",
          "text": [
            "enter string = naman\n",
            "naman is palindrome\n"
          ]
        }
      ]
    },
    {
      "cell_type": "code",
      "source": [
        "# 9.Write a Python program to remove all vowels from a string.\n",
        "# The program should ask the user for a string and print the string without vowels.\n",
        "s= input(\"enter string = \")\n",
        "st=\" \"\n",
        "v=\"aeiouAEIOU\"\n",
        "for ch in s:\n",
        "    if ch not in v:\n",
        "        st=st+ch\n",
        "print(\"without vowel:\",st)"
      ],
      "metadata": {
        "colab": {
          "base_uri": "https://localhost:8080/"
        },
        "id": "A5dj1Lcyc8dK",
        "outputId": "a158a712-d685-4732-e280-7a2b9a231229"
      },
      "execution_count": null,
      "outputs": [
        {
          "output_type": "stream",
          "name": "stdout",
          "text": [
            "enter string = hello namina \n",
            "without vowel:  hll nmn \n"
          ]
        }
      ]
    },
    {
      "cell_type": "code",
      "source": [
        "# 10.Write a Python program to capitalize the first letter of each word in a string.\n",
        "# The program should ask the user for a string and print the string with capitalized words.\n",
        "s= input(\"enter string = \")\n",
        "a=s.title()\n",
        "print(a)"
      ],
      "metadata": {
        "colab": {
          "base_uri": "https://localhost:8080/"
        },
        "id": "o-Ps3FjSdG3w",
        "outputId": "410d6bb2-86dd-466c-f756-c5c0c3c3e8ac"
      },
      "execution_count": null,
      "outputs": [
        {
          "output_type": "stream",
          "name": "stdout",
          "text": [
            "enter string = namina mansuri\n",
            "Namina Mansuri\n"
          ]
        }
      ]
    }
  ]
}